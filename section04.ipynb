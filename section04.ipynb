{
 "cells": [
  {
   "cell_type": "markdown",
   "id": "b285b250-41c7-4161-a645-02fe72e81f9e",
   "metadata": {},
   "source": [
    "# https://nlp100.github.io/ja/ch04.html"
   ]
  },
  {
   "cell_type": "markdown",
   "id": "d97391e8-c46c-44c8-a58e-0866264a4d34",
   "metadata": {},
   "source": [
    "## 準備段階"
   ]
  },
  {
   "cell_type": "code",
   "execution_count": 1,
   "id": "e2e7e168-3bc9-4b6b-abb7-1066d55be9f8",
   "metadata": {},
   "outputs": [
    {
     "name": "stdout",
     "output_type": "stream",
     "text": [
      "Collecting mecab-python3\n",
      "  Downloading mecab_python3-1.0.10-cp312-cp312-macosx_11_0_arm64.whl.metadata (6.2 kB)\n",
      "Downloading mecab_python3-1.0.10-cp312-cp312-macosx_11_0_arm64.whl (484 kB)\n",
      "Installing collected packages: mecab-python3\n",
      "Successfully installed mecab-python3-1.0.10\n"
     ]
    }
   ],
   "source": [
    "!pip install mecab-python3"
   ]
  },
  {
   "cell_type": "code",
   "execution_count": 2,
   "id": "a49158b2-4412-432b-be86-82521f00add4",
   "metadata": {},
   "outputs": [
    {
     "name": "stdout",
     "output_type": "stream",
     "text": [
      "Collecting unidic\n",
      "  Downloading unidic-1.1.0.tar.gz (7.7 kB)\n",
      "  Installing build dependencies ... \u001b[?2done\n",
      "\u001b[?25h  Getting requirements to build wheel ... \u001b[?25ldone\n",
      "\u001b[?25h  Preparing metadata (pyproject.toml) ... \u001b[?25ldone\n",
      "\u001b[?25hRequirement already satisfied: requests<3.0.0,>=2.22.0 in /Users/ryu/.venv/lib/python3.12/site-packages (from unidic) (2.32.3)\n",
      "Collecting tqdm<5.0.0,>=4.41.1 (from unidic)\n",
      "  Downloading tqdm-4.67.1-py3-none-any.whl.metadata (57 kB)\n",
      "Collecting wasabi<1.0.0,>=0.6.0 (from unidic)\n",
      "  Downloading wasabi-0.10.1-py3-none-any.whl.metadata (28 kB)\n",
      "Collecting plac<2.0.0,>=1.1.3 (from unidic)\n",
      "  Using cached plac-1.4.3-py2.py3-none-any.whl.metadata (5.9 kB)\n",
      "Requirement already satisfied: charset-normalizer<4,>=2 in /Users/ryu/.venv/lib/python3.12/site-packages (from requests<3.0.0,>=2.22.0->unidic) (3.4.0)\n",
      "Requirement already satisfied: idna<4,>=2.5 in /Users/ryu/.venv/lib/python3.12/site-packages (from requests<3.0.0,>=2.22.0->unidic) (3.10)\n",
      "Requirement already satisfied: urllib3<3,>=1.21.1 in /Users/ryu/.venv/lib/python3.12/site-packages (from requests<3.0.0,>=2.22.0->unidic) (2.2.3)\n",
      "Requirement already satisfied: certifi>=2017.4.17 in /Users/ryu/.venv/lib/python3.12/site-packages (from requests<3.0.0,>=2.22.0->unidic) (2024.8.30)\n",
      "Using cached plac-1.4.3-py2.py3-none-any.whl (22 kB)\n",
      "Downloading tqdm-4.67.1-py3-none-any.whl (78 kB)\n",
      "Downloading wasabi-0.10.1-py3-none-any.whl (26 kB)\n",
      "Building wheels for collected packages: unidic\n",
      "  Building wheel for unidic (pyproject.toml) ... \u001b[?25ldone\n",
      "\u001b[?25h  Created wheel for unidic: filename=unidic-1.1.0-py3-none-any.whl size=7441 sha256=4c907c606003605dfafc583339093d4cb0cbb96b6c1cee6cc4728e7e0556a02e\n",
      "  Stored in directory: /Users/ryu/Library/Caches/pip/wheels/cb/04/a2/659428f84ed1fa7257f8efb544b36043dd37a7c419e8ca711a\n",
      "Successfully built unidic\n",
      "Installing collected packages: wasabi, plac, tqdm, unidic\n",
      "Successfully installed plac-1.4.3 tqdm-4.67.1 unidic-1.1.0 wasabi-0.10.1\n",
      "download url: https://cotonoha-dic.s3-ap-northeast-1.amazonaws.com/unidic-3.1.0.zip\n",
      "Dictionary version: 3.1.0+2021-08-31\n",
      "Downloading UniDic v3.1.0+2021-08-31...\n",
      "unidic-3.1.0.zip: 100%|██████████████████████| 526M/526M [01:08<00:00, 7.64MB/s]\n",
      "Finished download.\n",
      "Downloaded UniDic v3.1.0+2021-08-31 to /Users/ryu/.venv/lib/python3.12/site-packages/unidic/dicdir\n"
     ]
    }
   ],
   "source": [
    "!pip install unidic\n",
    "!python -m unidic download"
   ]
  },
  {
   "cell_type": "code",
   "execution_count": 3,
   "id": "d6b125fc-9a15-4ae5-93bf-1bfc72787c7e",
   "metadata": {},
   "outputs": [],
   "source": [
    "import MeCab\n",
    "mecab = MeCab.Tagger()\n",
    "with open('./datafiles/neko.txt', 'r', encoding=\"utf-8\") as f1, open('./datafiles/neko.txt.mecab', 'w', encoding=\"utf-8\") as f2:\n",
    "    lines = f1.readlines()\n",
    "    for line in lines:\n",
    "        parsed_text = mecab.parse(line)\n",
    "        f2.write(parsed_text)"
   ]
  },
  {
   "cell_type": "markdown",
   "id": "5e4ec722-30a7-4998-84ac-8b72609c98a7",
   "metadata": {},
   "source": [
    "## 30. 形態素解析結果の読み込み"
   ]
  },
  {
   "cell_type": "code",
   "execution_count": 19,
   "id": "b0017b4c-d1c6-4bb6-ad19-2e42f4b3a613",
   "metadata": {},
   "outputs": [
    {
     "name": "stdout",
     "output_type": "stream",
     "text": [
      "['どこ\\t代名詞,,,,,,ドコ,何処,どこ,ドコ,どこ,ドコ,和,\"\",\"\",\"\",\"\",\"\",\"\",体,ドコ,ドコ,ドコ,ドコ,\"1\",\"\",\"\",7490706465759744,27251']\n"
     ]
    }
   ],
   "source": [
    "# 格納された形態素解析ファイルの構造を確認　→　見出し語と形態素解析の結果はtabで区切られている\n",
    "line_20_output = !sed -n '20p' ./datafiles/neko.txt.mecab\n",
    "print(line_20_output)"
   ]
  },
  {
   "cell_type": "code",
   "execution_count": 20,
   "id": "688c7ffc-4167-4ce8-8b94-d0562ada94b1",
   "metadata": {},
   "outputs": [
    {
     "name": "stdout",
     "output_type": "stream",
     "text": [
      "['どこ', '代名詞,,,,,,ドコ,何処,どこ,ドコ,どこ,ドコ,和,\"\",\"\",\"\",\"\",\"\",\"\",体,ドコ,ドコ,ドコ,ドコ,\"1\",\"\",\"\",7490706465759744,27251']\n"
     ]
    }
   ],
   "source": [
    "# tabで区切られたテキストを分割の処理方法　→　splitを使用\n",
    "splitted_text = line_20_output[0].split('\\t')\n",
    "print(splitted_text)"
   ]
  },
  {
   "cell_type": "code",
   "execution_count": 21,
   "id": "5fa4d026-9de1-4af9-a26b-505e60fea864",
   "metadata": {},
   "outputs": [
    {
     "data": {
      "text/plain": [
       "['代名詞',\n",
       " '',\n",
       " '',\n",
       " '',\n",
       " '',\n",
       " '',\n",
       " 'ドコ',\n",
       " '何処',\n",
       " 'どこ',\n",
       " 'ドコ',\n",
       " 'どこ',\n",
       " 'ドコ',\n",
       " '和',\n",
       " '\"\"',\n",
       " '\"\"',\n",
       " '\"\"',\n",
       " '\"\"',\n",
       " '\"\"',\n",
       " '\"\"',\n",
       " '体',\n",
       " 'ドコ',\n",
       " 'ドコ',\n",
       " 'ドコ',\n",
       " 'ドコ',\n",
       " '\"1\"',\n",
       " '\"\"',\n",
       " '\"\"',\n",
       " '7490706465759744',\n",
       " '27251']"
      ]
     },
     "execution_count": 21,
     "metadata": {},
     "output_type": "execute_result"
    }
   ],
   "source": [
    "# 同様にカンマ区切りでも区切ることが可能\n",
    "splitted_text[1].split(',')"
   ]
  },
  {
   "cell_type": "markdown",
   "id": "705826f0-1835-4b48-8460-092cb91ba0f1",
   "metadata": {},
   "source": [
    "read(): Reads the entire file at once into a single string, unless a size limit is set.  \n",
    "readlines(): Reads the entire file into a list of strings, with each string representing a line from the file."
   ]
  },
  {
   "cell_type": "code",
   "execution_count": 1,
   "id": "068f352c-581c-4c3d-a7e0-d673b296b9a4",
   "metadata": {},
   "outputs": [
    {
     "name": "stdout",
     "output_type": "stream",
     "text": [
      "{'surface': '一', 'base': '一', 'pos': '名詞', 'pos1': '数詞'}\n",
      "{'surface': '\\u3000', 'base': '\\u3000', 'pos': '空白', 'pos1': ''}\n",
      "{'surface': '吾輩', 'base': '我が輩', 'pos': '代名詞', 'pos1': ''}\n",
      "{'surface': 'は', 'base': 'は', 'pos': '助詞', 'pos1': '係助詞'}\n",
      "{'surface': '猫', 'base': '猫', 'pos': '名詞', 'pos1': '普通名詞'}\n",
      "{'surface': 'で', 'base': 'だ', 'pos': '助動詞', 'pos1': ''}\n",
      "{'surface': 'ある', 'base': '有る', 'pos': '動詞', 'pos1': '非自立可能'}\n",
      "{'surface': '。', 'base': '。', 'pos': '補助記号', 'pos1': '句点'}\n",
      "{'surface': '名前', 'base': '名前', 'pos': '名詞', 'pos1': '普通名詞'}\n",
      "{'surface': 'は', 'base': 'は', 'pos': '助詞', 'pos1': '係助詞'}\n",
      "{'surface': 'まだ', 'base': '未だ', 'pos': '副詞', 'pos1': ''}\n",
      "{'surface': '無い', 'base': '無い', 'pos': '形容詞', 'pos1': '非自立可能'}\n",
      "{'surface': '。', 'base': '。', 'pos': '補助記号', 'pos1': '句点'}\n",
      "{'surface': '\\u3000', 'base': '\\u3000', 'pos': '空白', 'pos1': ''}\n",
      "{'surface': 'どこ', 'base': '何処', 'pos': '代名詞', 'pos1': ''}\n",
      "{'surface': 'で', 'base': 'で', 'pos': '助詞', 'pos1': '格助詞'}\n",
      "{'surface': '生れ', 'base': '生まれる', 'pos': '動詞', 'pos1': '一般'}\n",
      "{'surface': 'た', 'base': 'た', 'pos': '助動詞', 'pos1': ''}\n",
      "{'surface': 'か', 'base': 'か', 'pos': '助詞', 'pos1': '終助詞'}\n",
      "{'surface': 'と', 'base': 'と', 'pos': '助詞', 'pos1': '格助詞'}\n"
     ]
    }
   ],
   "source": [
    "neko_dict = {}\n",
    "neko_list = []\n",
    "neko_general_list = []\n",
    "\n",
    "with open('./datafiles/neko.txt.mecab', 'r', encoding='utf-8') as f:\n",
    "    lines = f.readlines()\n",
    "    for line in lines[0:25]:\n",
    "        if line == 'EOS\\n':\n",
    "            pass\n",
    "        else:    \n",
    "            tab_splitted_line = line.split('\\t')\n",
    "            comma_splitted_line = tab_splitted_line[1].split(',')\n",
    "            neko_dict['surface'] = tab_splitted_line[0]\n",
    "            if len(comma_splitted_line) <= 7:\n",
    "                neko_dict[\"base\"] = comma_splitted_line[0]\n",
    "            else:\n",
    "                neko_dict[\"base\"] = comma_splitted_line[7]\n",
    "            neko_dict[\"pos\"] = comma_splitted_line[0]\n",
    "            neko_dict[\"pos1\"] = comma_splitted_line[1]\n",
    "            print(neko_dict)\n",
    "            neko_list.append(neko_dict.copy())\n",
    "\n",
    "            if tab_splitted_line[0] == '。':\n",
    "                neko_general_list.append(neko_list)\n",
    "                neko_list = []"
   ]
  },
  {
   "cell_type": "code",
   "execution_count": 2,
   "id": "3bd7a2fc-0660-4dde-9b89-b39b3c1da5a2",
   "metadata": {},
   "outputs": [
    {
     "data": {
      "text/plain": [
       "[{'surface': '\\u3000', 'base': '\\u3000', 'pos': '空白', 'pos1': ''},\n",
       " {'surface': 'どこ', 'base': '何処', 'pos': '代名詞', 'pos1': ''},\n",
       " {'surface': 'で', 'base': 'で', 'pos': '助詞', 'pos1': '格助詞'},\n",
       " {'surface': '生れ', 'base': '生まれる', 'pos': '動詞', 'pos1': '一般'},\n",
       " {'surface': 'た', 'base': 'た', 'pos': '助動詞', 'pos1': ''},\n",
       " {'surface': 'か', 'base': 'か', 'pos': '助詞', 'pos1': '終助詞'},\n",
       " {'surface': 'と', 'base': 'と', 'pos': '助詞', 'pos1': '格助詞'}]"
      ]
     },
     "execution_count": 2,
     "metadata": {},
     "output_type": "execute_result"
    }
   ],
   "source": [
    "neko_list"
   ]
  },
  {
   "cell_type": "code",
   "execution_count": 3,
   "id": "4ad82d50-ff02-48fd-8325-299468a3498e",
   "metadata": {},
   "outputs": [
    {
     "data": {
      "text/plain": [
       "[[{'surface': '一', 'base': '一', 'pos': '名詞', 'pos1': '数詞'},\n",
       "  {'surface': '\\u3000', 'base': '\\u3000', 'pos': '空白', 'pos1': ''},\n",
       "  {'surface': '吾輩', 'base': '我が輩', 'pos': '代名詞', 'pos1': ''},\n",
       "  {'surface': 'は', 'base': 'は', 'pos': '助詞', 'pos1': '係助詞'},\n",
       "  {'surface': '猫', 'base': '猫', 'pos': '名詞', 'pos1': '普通名詞'},\n",
       "  {'surface': 'で', 'base': 'だ', 'pos': '助動詞', 'pos1': ''},\n",
       "  {'surface': 'ある', 'base': '有る', 'pos': '動詞', 'pos1': '非自立可能'},\n",
       "  {'surface': '。', 'base': '。', 'pos': '補助記号', 'pos1': '句点'}],\n",
       " [{'surface': '名前', 'base': '名前', 'pos': '名詞', 'pos1': '普通名詞'},\n",
       "  {'surface': 'は', 'base': 'は', 'pos': '助詞', 'pos1': '係助詞'},\n",
       "  {'surface': 'まだ', 'base': '未だ', 'pos': '副詞', 'pos1': ''},\n",
       "  {'surface': '無い', 'base': '無い', 'pos': '形容詞', 'pos1': '非自立可能'},\n",
       "  {'surface': '。', 'base': '。', 'pos': '補助記号', 'pos1': '句点'}]]"
      ]
     },
     "execution_count": 3,
     "metadata": {},
     "output_type": "execute_result"
    }
   ],
   "source": [
    "neko_general_list"
   ]
  },
  {
   "cell_type": "code",
   "execution_count": null,
   "id": "ed7ed38f-eb0b-466e-b572-0cfe930027f5",
   "metadata": {},
   "outputs": [],
   "source": []
  }
 ],
 "metadata": {
  "kernelspec": {
   "display_name": "Python 3 (ipykernel)",
   "language": "python",
   "name": "python3"
  },
  "language_info": {
   "codemirror_mode": {
    "name": "ipython",
    "version": 3
   },
   "file_extension": ".py",
   "mimetype": "text/x-python",
   "name": "python",
   "nbconvert_exporter": "python",
   "pygments_lexer": "ipython3",
   "version": "3.12.4"
  }
 },
 "nbformat": 4,
 "nbformat_minor": 5
}
