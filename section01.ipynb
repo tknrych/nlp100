{
 "cells": [
  {
   "cell_type": "markdown",
   "id": "d3a7dd81-80ae-48eb-967a-7091a59f29e7",
   "metadata": {},
   "source": [
    "## https://nlp100.github.io/ja/ch01.html"
   ]
  },
  {
   "cell_type": "markdown",
   "id": "652179fe-f39c-4a52-992d-6cd311762c7b",
   "metadata": {},
   "source": [
    "## 00. 文字列の逆順\n",
    "\n",
    "文字列”stressed”の文字を逆に（末尾から先頭に向かって）並べた文字列を得よ．"
   ]
  },
  {
   "cell_type": "code",
   "execution_count": 2,
   "id": "184a0cd2-5f78-4301-81dd-f10e21c8438f",
   "metadata": {},
   "outputs": [
    {
     "name": "stdout",
     "output_type": "stream",
     "text": [
      "3\n",
      "2\n",
      "1\n"
     ]
    }
   ],
   "source": [
    "for i in range(3, 0, -1):\n",
    "    print(i)"
   ]
  },
  {
   "cell_type": "code",
   "execution_count": 13,
   "id": "9561f6f0-878f-4d68-8539-3d2414ca9cdf",
   "metadata": {},
   "outputs": [
    {
     "name": "stdout",
     "output_type": "stream",
     "text": [
      "d\n",
      "e\n",
      "s\n",
      "s\n",
      "e\n",
      "r\n",
      "t\n",
      "s\n",
      "stressedを逆順にしたものは -> desserts\n"
     ]
    }
   ],
   "source": [
    "target_string = 'stressed'\n",
    "reversed_string = []\n",
    "for i in range(len('stressed'), 0, -1):\n",
    "    print(target_string[i-1])\n",
    "    reversed_string.append(target_string[i-1])\n",
    "print('stressedを逆順にしたものは -> {}'.format(''.join(reversed_string)))"
   ]
  },
  {
   "cell_type": "markdown",
   "id": "d350fc5d-b961-4f0e-9ff1-1ddd7336301e",
   "metadata": {},
   "source": [
    "## 01. 「パタトクカシーー」\n",
    "\n",
    "「パタトクカシーー」という文字列の1,3,5,7文字目を取り出して連結した文字列を得よ．"
   ]
  },
  {
   "cell_type": "code",
   "execution_count": 15,
   "id": "f9d0546a-d697-42eb-bb62-dab4e8ab2632",
   "metadata": {},
   "outputs": [
    {
     "name": "stdout",
     "output_type": "stream",
     "text": [
      "タ\n",
      "ク\n",
      "シ\n",
      "ー\n"
     ]
    }
   ],
   "source": [
    "target_string = 'パタトクカシーー'\n",
    "extract_list = [1, 3, 5, 7]\n",
    "output_string = []\n",
    "for i in extract_list:\n",
    "    print(target_string[i])\n",
    "    output_string.append(target_string[i])"
   ]
  },
  {
   "cell_type": "code",
   "execution_count": 17,
   "id": "107c4166-57df-408c-96f0-4a2c3b0e1d68",
   "metadata": {},
   "outputs": [
    {
     "data": {
      "text/plain": [
       "'タクシー'"
      ]
     },
     "execution_count": 17,
     "metadata": {},
     "output_type": "execute_result"
    }
   ],
   "source": [
    "''.join(output_string)"
   ]
  },
  {
   "cell_type": "markdown",
   "id": "7364e33b-efaf-425f-b98d-b9fdc999e288",
   "metadata": {},
   "source": [
    "## 02. 「パトカー」＋「タクシー」＝「パタトクカシーー」\n",
    "\n",
    "「パトカー」＋「タクシー」の文字を先頭から交互に連結して文字列「パタトクカシーー」を得よ．"
   ]
  },
  {
   "cell_type": "code",
   "execution_count": 21,
   "id": "040d5ebb-1e86-4f9b-86a9-9878d1f228e7",
   "metadata": {},
   "outputs": [
    {
     "name": "stdout",
     "output_type": "stream",
     "text": [
      "パタ\n",
      "トク\n",
      "カシ\n",
      "ーー\n"
     ]
    }
   ],
   "source": [
    "target_string1 = 'パトカー'\n",
    "target_string2 = 'タクシー'\n",
    "output_string = []\n",
    "for i, j in zip(target_string1, target_string2):\n",
    "    print(i+j)\n",
    "    output_string.append(i+j)"
   ]
  },
  {
   "cell_type": "code",
   "execution_count": 22,
   "id": "25e6f96b-fc9d-493a-b11f-5c90d3aa0062",
   "metadata": {},
   "outputs": [
    {
     "data": {
      "text/plain": [
       "'パタトクカシーー'"
      ]
     },
     "execution_count": 22,
     "metadata": {},
     "output_type": "execute_result"
    }
   ],
   "source": [
    "''.join(output_string)"
   ]
  },
  {
   "cell_type": "markdown",
   "id": "5b1c3b32-82bf-42db-ba6a-2400ce5d101a",
   "metadata": {},
   "source": [
    "## 03. 円周率\n",
    "\n",
    "“Now I need a drink, alcoholic of course, after the heavy lectures involving quantum mechanics.”という文を単語に分解し，各単語の（アルファベットの）文字数を先頭から出現順に並べたリストを作成せよ．"
   ]
  },
  {
   "cell_type": "code",
   "execution_count": 23,
   "id": "42b5a344-81db-420d-87a7-bdb5d1589995",
   "metadata": {},
   "outputs": [],
   "source": [
    "target_string = 'Now I need a drink, alcoholic of course, after the heavy lectures involving quantum mechanics.'"
   ]
  },
  {
   "cell_type": "code",
   "execution_count": 34,
   "id": "fca6ce54-c3a4-4f8b-84a3-33c725b9440a",
   "metadata": {},
   "outputs": [
    {
     "name": "stdout",
     "output_type": "stream",
     "text": [
      "Nowの文字数は:3\n",
      "Iの文字数は:1\n",
      "needの文字数は:4\n",
      "aの文字数は:1\n",
      "drink,の文字数は:6\n",
      "alcoholicの文字数は:9\n",
      "ofの文字数は:2\n",
      "course,の文字数は:7\n",
      "afterの文字数は:5\n",
      "theの文字数は:3\n",
      "heavyの文字数は:5\n",
      "lecturesの文字数は:8\n",
      "involvingの文字数は:9\n",
      "quantumの文字数は:7\n",
      "mechanics.の文字数は:10\n"
     ]
    }
   ],
   "source": [
    "for split_str in target_string.split(' '):\n",
    "    print(split_str + 'の文字数は:{}'.format(len(split_str)))"
   ]
  },
  {
   "cell_type": "markdown",
   "id": "e2050d7d-7e83-4f74-85fd-60e9dd2372f7",
   "metadata": {},
   "source": [
    "## 04. 元素記号\n",
    "“Hi He Lied Because Boron Could Not Oxidize Fluorine. New Nations Might Also Sign Peace Security Clause. Arthur King Can.”という文を単語に分解し，1, 5, 6, 7, 8, 9, 15, 16, 19番目の単語は先頭の1文字，それ以外の単語は先頭の2文字を取り出し，取り出した文字列から単語の位置（先頭から何番目の単語か）への連想配列（辞書型もしくはマップ型）を作成せよ．"
   ]
  },
  {
   "cell_type": "code",
   "execution_count": 4,
   "id": "02e6c399-45a2-4a47-8ffb-acd7ba725fa4",
   "metadata": {},
   "outputs": [],
   "source": [
    "target_string = 'Hi He Lied Because Boron Could Not Oxidize Fluorine. New Nations Might Also Sign Peace Security Clause. Arthur King Can.'\n",
    "target_string_list = target_string.split(' ')"
   ]
  },
  {
   "cell_type": "code",
   "execution_count": 5,
   "id": "630fec00-8a58-46bb-9bfc-975ecf4004cc",
   "metadata": {},
   "outputs": [],
   "source": [
    "pickup_index_list = [1, 5, 6, 7, 8, 9, 15, 16, 19]"
   ]
  },
  {
   "cell_type": "code",
   "execution_count": 19,
   "id": "6f7679cb-261b-4e2f-99b4-80940d5f9b32",
   "metadata": {},
   "outputs": [],
   "source": [
    "associative_array = {}\n",
    "for i, j in enumerate(target_string_list):\n",
    "    target_word = j.strip('.')\n",
    "    if i+1 in pickup_index_list:\n",
    "        target_word_index = target_word[0]\n",
    "    else:\n",
    "        target_word_index = target_word[0:2]\n",
    "    associative_array[target_word_index] = target_word"
   ]
  },
  {
   "cell_type": "code",
   "execution_count": 20,
   "id": "29b0e611-1491-4b04-b2a2-4bbe2b10d1b6",
   "metadata": {},
   "outputs": [
    {
     "data": {
      "text/plain": [
       "{'H': 'Hi',\n",
       " 'He': 'He',\n",
       " 'Li': 'Lied',\n",
       " 'Be': 'Because',\n",
       " 'B': 'Boron',\n",
       " 'C': 'Could',\n",
       " 'N': 'Not',\n",
       " 'O': 'Oxidize',\n",
       " 'F': 'Fluorine',\n",
       " 'Ne': 'New',\n",
       " 'Na': 'Nations',\n",
       " 'Mi': 'Might',\n",
       " 'Al': 'Also',\n",
       " 'Si': 'Sign',\n",
       " 'P': 'Peace',\n",
       " 'S': 'Security',\n",
       " 'Cl': 'Clause',\n",
       " 'Ar': 'Arthur',\n",
       " 'K': 'King',\n",
       " 'Ca': 'Can'}"
      ]
     },
     "execution_count": 20,
     "metadata": {},
     "output_type": "execute_result"
    }
   ],
   "source": [
    "associative_array"
   ]
  },
  {
   "cell_type": "markdown",
   "id": "114d041d-6154-4f4a-b55d-0602b10f2891",
   "metadata": {},
   "source": [
    "## 05. n-gram\n",
    "与えられたシーケンス（文字列やリストなど）からn-gramを作る関数を作成せよ．この関数を用い，”I am an NLPer”という文から単語bi-gram，文字bi-gramを得よ．"
   ]
  },
  {
   "cell_type": "code",
   "execution_count": 48,
   "id": "0a037cf5-0960-4b01-8c27-5fe95d6b0025",
   "metadata": {},
   "outputs": [
    {
     "name": "stdout",
     "output_type": "stream",
     "text": [
      "[['I', 'am'], ['am', 'an'], ['an', 'NLPer']]\n",
      "['I ', ' a', 'am', 'm ', ' a', 'an', 'n ', ' N', 'NL', 'LP', 'Pe', 'er']\n"
     ]
    }
   ],
   "source": [
    "def word_bi_gram(input_string: str) -> list:\n",
    "    output_word_list = []\n",
    "    input_word_list = input_string.split(' ')\n",
    "    for i in range(0, len(input_word_list)-1):\n",
    "        # print(input_word_list[i:i+2])\n",
    "        output_word_list.append(input_word_list[i:i+2])\n",
    "    return output_word_list\n",
    "\n",
    "\n",
    "def char_bi_gram(input_string: str) -> list:\n",
    "    output_char_list = []\n",
    "    for i in range(0, len(input_string)-1):\n",
    "        output_char_list.append(input_string[i:i+2])\n",
    "    return output_char_list\n",
    "\n",
    "\n",
    "target_string = 'I am an NLPer'\n",
    "print(word_bi_gram(target_string))\n",
    "print(char_bi_gram(target_string))"
   ]
  },
  {
   "cell_type": "markdown",
   "id": "d9a2a6c6-53b2-4cfa-982d-2709b1c8be84",
   "metadata": {},
   "source": [
    "## 06. 集合\n",
    "“paraparaparadise”と”paragraph”に含まれる文字bi-gramの集合を，それぞれ, XとYとして求め，XとYの和集合，積集合，差集合を求めよ．さらに，’se’というbi-gramがXおよびYに含まれるかどうかを調べよ．"
   ]
  },
  {
   "cell_type": "code",
   "execution_count": 49,
   "id": "50920293-9fdf-4e11-af98-d8302e515ac3",
   "metadata": {},
   "outputs": [],
   "source": [
    "X = char_bi_gram('paraparaparadise')\n",
    "Y = char_bi_gram('paragraph')"
   ]
  },
  {
   "cell_type": "code",
   "execution_count": 50,
   "id": "b7ae775f-3139-4ccf-a545-81886c0fe099",
   "metadata": {},
   "outputs": [
    {
     "data": {
      "text/plain": [
       "['pa',\n",
       " 'ar',\n",
       " 'ra',\n",
       " 'ap',\n",
       " 'pa',\n",
       " 'ar',\n",
       " 'ra',\n",
       " 'ap',\n",
       " 'pa',\n",
       " 'ar',\n",
       " 'ra',\n",
       " 'ad',\n",
       " 'di',\n",
       " 'is',\n",
       " 'se']"
      ]
     },
     "execution_count": 50,
     "metadata": {},
     "output_type": "execute_result"
    }
   ],
   "source": [
    "X"
   ]
  },
  {
   "cell_type": "code",
   "execution_count": 52,
   "id": "56d02ac1-21a9-45f4-8e02-281b81d32f0e",
   "metadata": {},
   "outputs": [
    {
     "data": {
      "text/plain": [
       "True"
      ]
     },
     "execution_count": 52,
     "metadata": {},
     "output_type": "execute_result"
    }
   ],
   "source": [
    "'se' in X"
   ]
  },
  {
   "cell_type": "code",
   "execution_count": 51,
   "id": "b4ae398f-e5ce-4f6c-bb7a-493594a0a0b1",
   "metadata": {},
   "outputs": [
    {
     "data": {
      "text/plain": [
       "['pa', 'ar', 'ra', 'ag', 'gr', 'ra', 'ap', 'ph']"
      ]
     },
     "execution_count": 51,
     "metadata": {},
     "output_type": "execute_result"
    }
   ],
   "source": [
    "Y"
   ]
  },
  {
   "cell_type": "code",
   "execution_count": 53,
   "id": "2cfd58c6-61d9-4e93-befe-9c4b3b7b91f1",
   "metadata": {},
   "outputs": [
    {
     "data": {
      "text/plain": [
       "False"
      ]
     },
     "execution_count": 53,
     "metadata": {},
     "output_type": "execute_result"
    }
   ],
   "source": [
    "'se' in Y"
   ]
  },
  {
   "cell_type": "markdown",
   "id": "34c78d85-b218-441b-a4c1-53168255ac31",
   "metadata": {},
   "source": [
    "## 07. テンプレートによる文生成\n",
    "引数x, y, zを受け取り「x時のyはz」という文字列を返す関数を実装せよ．さらに，x=12, y=”気温”, z=22.4として，実行結果を確認せよ．"
   ]
  },
  {
   "cell_type": "code",
   "execution_count": 66,
   "id": "9d112709-1695-4b4d-8c96-3217150435cc",
   "metadata": {},
   "outputs": [],
   "source": [
    "def template_print(x: str, y: str, z:str) -> str:\n",
    "    return '{0}時の{1}は{2}'.format(x, y, z)"
   ]
  },
  {
   "cell_type": "code",
   "execution_count": 69,
   "id": "c2c5d784-6eb5-41b2-b859-7cff81fe0ccc",
   "metadata": {},
   "outputs": [
    {
     "data": {
      "text/plain": [
       "'12時の気温は22.4'"
      ]
     },
     "execution_count": 69,
     "metadata": {},
     "output_type": "execute_result"
    }
   ],
   "source": [
    "template_print(12, '気温', 22.4)"
   ]
  },
  {
   "cell_type": "markdown",
   "id": "f8bb25a1-4e32-4193-b9a8-d68de742be87",
   "metadata": {},
   "source": [
    "## 08. 暗号文\n",
    "与えられた文字列の各文字を，以下の仕様で変換する関数cipherを実装せよ．\n",
    "\n",
    "英小文字ならば(219 - 文字コード)の文字に置換\n",
    "その他の文字はそのまま出力\n",
    "この関数を用い，英語のメッセージを暗号化・復号化せよ．"
   ]
  },
  {
   "cell_type": "code",
   "execution_count": 1,
   "id": "41f6749b-9229-4404-94ce-50dfb625483a",
   "metadata": {},
   "outputs": [
    {
     "data": {
      "text/plain": [
       "97"
      ]
     },
     "execution_count": 1,
     "metadata": {},
     "output_type": "execute_result"
    }
   ],
   "source": [
    "# テスト\n",
    "ord('a')"
   ]
  },
  {
   "cell_type": "code",
   "execution_count": 2,
   "id": "b3cf49a4-8856-4357-aaae-b00aa128ce07",
   "metadata": {},
   "outputs": [],
   "source": [
    "import re\n",
    "pattern = re.compile('[a-z]')"
   ]
  },
  {
   "cell_type": "code",
   "execution_count": 64,
   "id": "02315312-991f-4210-bc38-b62505d69145",
   "metadata": {},
   "outputs": [],
   "source": [
    "def cipher_encrypt(target_string: str) -> str:\n",
    "    for i in target_string:\n",
    "        if len(pattern.findall(i)) != 0:\n",
    "            print(chr(219-ord(i)))\n",
    "        else:\n",
    "            print(i)"
   ]
  },
  {
   "cell_type": "code",
   "execution_count": 65,
   "id": "de23add4-7bd9-4448-a4e4-eab83ef6bf51",
   "metadata": {},
   "outputs": [],
   "source": [
    "def cipher_decrypt(target_string: str) -> str:\n",
    "    for i in target_string:\n",
    "        if len(pattern.findall(i)) != 0:\n",
    "            print(chr(219 - ord(i)))\n",
    "        else:\n",
    "            print(i)"
   ]
  },
  {
   "cell_type": "code",
   "execution_count": 68,
   "id": "fb7316be-82e1-4245-af5b-c34b89aa93ac",
   "metadata": {},
   "outputs": [
    {
     "name": "stdout",
     "output_type": "stream",
     "text": [
      "Z\n",
      "W\n",
      "W\n",
      "?\n",
      "?\n",
      "z\n",
      "y\n",
      "x\n"
     ]
    }
   ],
   "source": [
    "cipher_encrypt('ZWW??abc')"
   ]
  },
  {
   "cell_type": "code",
   "execution_count": 69,
   "id": "5566581b-f450-42f2-8291-f888c3cebcc1",
   "metadata": {},
   "outputs": [
    {
     "name": "stdout",
     "output_type": "stream",
     "text": [
      "Z\n",
      "W\n",
      "W\n",
      "?\n",
      "?\n",
      "a\n",
      "b\n",
      "c\n"
     ]
    }
   ],
   "source": [
    "cipher_decrypt('ZWW??zyx')"
   ]
  },
  {
   "cell_type": "markdown",
   "id": "17b48bc7-915f-4da2-8873-b978800c2dda",
   "metadata": {},
   "source": [
    "## 09. Typoglycemia\n",
    "スペースで区切られた単語列に対して，各単語の先頭と末尾の文字は残し，それ以外の文字の順序をランダムに並び替えるプログラムを作成せよ．ただし，長さが４以下の単語は並び替えないこととする．適当な英語の文（例えば”I couldn’t believe that I could actually understand what I was reading : the phenomenal power of the human mind .”）を与え，その実行結果を確認せよ．"
   ]
  },
  {
   "cell_type": "code",
   "execution_count": 71,
   "id": "a09bb6f6-7b57-4925-801f-e3809a17709e",
   "metadata": {},
   "outputs": [],
   "source": [
    "target_string = \"I couldn’t believe that I could actually understand what I was reading : the phenomenal power of the human mind .\""
   ]
  },
  {
   "cell_type": "code",
   "execution_count": 76,
   "id": "d3fdf383-3391-4842-8bdf-b945304ae556",
   "metadata": {},
   "outputs": [],
   "source": [
    "target_string_list = target_string.strip('.;').split(' ')"
   ]
  },
  {
   "cell_type": "code",
   "execution_count": 74,
   "id": "f4cab479-fd21-47de-8372-9e826330f930",
   "metadata": {},
   "outputs": [
    {
     "data": {
      "text/plain": [
       "['I',\n",
       " 'couldn’t',\n",
       " 'believe',\n",
       " 'that',\n",
       " 'I',\n",
       " 'could',\n",
       " 'actually',\n",
       " 'understand',\n",
       " 'what',\n",
       " 'I',\n",
       " 'was',\n",
       " 'reading',\n",
       " ':',\n",
       " 'the',\n",
       " 'phenomenal',\n",
       " 'power',\n",
       " 'of',\n",
       " 'the',\n",
       " 'human',\n",
       " 'mind',\n",
       " '']"
      ]
     },
     "execution_count": 74,
     "metadata": {},
     "output_type": "execute_result"
    }
   ],
   "source": [
    "target_string_list"
   ]
  },
  {
   "cell_type": "code",
   "execution_count": 91,
   "id": "9b80791f-7913-4428-b460-b0c5d17b0b8d",
   "metadata": {},
   "outputs": [
    {
     "name": "stdout",
     "output_type": "stream",
     "text": [
      "並び替えた文字列: cdnu’olt\n",
      "並び替えた文字列: bilevee\n",
      "並び替えた文字列: cloud\n",
      "並び替えた文字列: atllaucy\n",
      "並び替えた文字列: usreatdnnd\n",
      "並び替えた文字列: ranideg\n",
      "並び替えた文字列: peanohmnel\n",
      "並び替えた文字列: peowr\n",
      "並び替えた文字列: haumn\n"
     ]
    }
   ],
   "source": [
    "for i in target_string_list:\n",
    "    if len(i) > 4:\n",
    "        print('並び替えた文字列: {}{}{}'.format(i[0], ''.join(random.sample(i[1:-1], len(i[1:-1]))), i[-1]))"
   ]
  }
 ],
 "metadata": {
  "kernelspec": {
   "display_name": "Python 3 (ipykernel)",
   "language": "python",
   "name": "python3"
  },
  "language_info": {
   "codemirror_mode": {
    "name": "ipython",
    "version": 3
   },
   "file_extension": ".py",
   "mimetype": "text/x-python",
   "name": "python",
   "nbconvert_exporter": "python",
   "pygments_lexer": "ipython3",
   "version": "3.12.6"
  }
 },
 "nbformat": 4,
 "nbformat_minor": 5
}
