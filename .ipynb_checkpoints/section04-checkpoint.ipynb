{
 "cells": [
  {
   "cell_type": "markdown",
   "id": "b285b250-41c7-4161-a645-02fe72e81f9e",
   "metadata": {},
   "source": [
    "# https://nlp100.github.io/ja/ch04.html"
   ]
  },
  {
   "cell_type": "code",
   "execution_count": 4,
   "id": "e2e7e168-3bc9-4b6b-abb7-1066d55be9f8",
   "metadata": {},
   "outputs": [
    {
     "name": "stdout",
     "output_type": "stream",
     "text": [
      "Requirement already satisfied: mecab-python3 in /Users/ryuichi/venv_default/lib/python3.12/site-packages (1.0.9)\n"
     ]
    }
   ],
   "source": [
    "!pip install mecab-python3"
   ]
  },
  {
   "cell_type": "code",
   "execution_count": 5,
   "id": "a49158b2-4412-432b-be86-82521f00add4",
   "metadata": {},
   "outputs": [
    {
     "name": "stdout",
     "output_type": "stream",
     "text": [
      "Requirement already satisfied: unidic in /Users/ryuichi/venv_default/lib/python3.12/site-packages (1.1.0)\n",
      "Requirement already satisfied: requests<3.0.0,>=2.22.0 in /Users/ryuichi/venv_default/lib/python3.12/site-packages (from unidic) (2.32.3)\n",
      "Requirement already satisfied: tqdm<5.0.0,>=4.41.1 in /Users/ryuichi/venv_default/lib/python3.12/site-packages (from unidic) (4.66.4)\n",
      "Requirement already satisfied: wasabi<1.0.0,>=0.6.0 in /Users/ryuichi/venv_default/lib/python3.12/site-packages (from unidic) (0.10.1)\n",
      "Requirement already satisfied: plac<2.0.0,>=1.1.3 in /Users/ryuichi/venv_default/lib/python3.12/site-packages (from unidic) (1.4.3)\n",
      "Requirement already satisfied: charset-normalizer<4,>=2 in /Users/ryuichi/venv_default/lib/python3.12/site-packages (from requests<3.0.0,>=2.22.0->unidic) (3.3.2)\n",
      "Requirement already satisfied: idna<4,>=2.5 in /Users/ryuichi/venv_default/lib/python3.12/site-packages (from requests<3.0.0,>=2.22.0->unidic) (3.7)\n",
      "Requirement already satisfied: urllib3<3,>=1.21.1 in /Users/ryuichi/venv_default/lib/python3.12/site-packages (from requests<3.0.0,>=2.22.0->unidic) (2.2.2)\n",
      "Requirement already satisfied: certifi>=2017.4.17 in /Users/ryuichi/venv_default/lib/python3.12/site-packages (from requests<3.0.0,>=2.22.0->unidic) (2024.7.4)\n",
      "download url: https://cotonoha-dic.s3-ap-northeast-1.amazonaws.com/unidic-3.1.0.zip\n",
      "Dictionary version: 3.1.0+2021-08-31\n",
      "Downloading UniDic v3.1.0+2021-08-31...\n",
      "unidic-3.1.0.zip: 100%|██████████████████████| 526M/526M [01:37<00:00, 5.42MB/s]\n",
      "Finished download.\n",
      "Downloaded UniDic v3.1.0+2021-08-31 to /Users/ryuichi/venv_default/lib/python3.12/site-packages/unidic/dicdir\n"
     ]
    }
   ],
   "source": [
    "!pip install unidic\n",
    "!python -m unidic download"
   ]
  },
  {
   "cell_type": "code",
   "execution_count": 1,
   "id": "d6b125fc-9a15-4ae5-93bf-1bfc72787c7e",
   "metadata": {},
   "outputs": [],
   "source": [
    "import MeCab\n",
    "mecab = MeCab.Tagger()\n",
    "with open('./datafiles/neko.txt', 'r', encoding=\"utf-8\") as f1, open('./datafiles/neko.txt.mecab', 'w', encoding=\"utf-8\") as f2:\n",
    "    lines = f1.readlines()\n",
    "    for line in lines:\n",
    "        text = mecab.parse(line)\n",
    "        f2.write(text)"
   ]
  },
  {
   "cell_type": "code",
   "execution_count": 1,
   "id": "068f352c-581c-4c3d-a7e0-d673b296b9a4",
   "metadata": {},
   "outputs": [
    {
     "name": "stdout",
     "output_type": "stream",
     "text": [
      "{'surface': '一', 'base': '一', 'pos': '名詞', 'pos1': '数詞'}\n",
      "{'surface': '\\u3000', 'base': '\\u3000', 'pos': '空白', 'pos1': ''}\n",
      "{'surface': '吾輩', 'base': '我が輩', 'pos': '代名詞', 'pos1': ''}\n",
      "{'surface': 'は', 'base': 'は', 'pos': '助詞', 'pos1': '係助詞'}\n",
      "{'surface': '猫', 'base': '猫', 'pos': '名詞', 'pos1': '普通名詞'}\n",
      "{'surface': 'で', 'base': 'だ', 'pos': '助動詞', 'pos1': ''}\n",
      "{'surface': 'ある', 'base': '有る', 'pos': '動詞', 'pos1': '非自立可能'}\n",
      "{'surface': '。', 'base': '。', 'pos': '補助記号', 'pos1': '句点'}\n",
      "{'surface': '名前', 'base': '名前', 'pos': '名詞', 'pos1': '普通名詞'}\n",
      "{'surface': 'は', 'base': 'は', 'pos': '助詞', 'pos1': '係助詞'}\n",
      "{'surface': 'まだ', 'base': '未だ', 'pos': '副詞', 'pos1': ''}\n",
      "{'surface': '無い', 'base': '無い', 'pos': '形容詞', 'pos1': '非自立可能'}\n",
      "{'surface': '。', 'base': '。', 'pos': '補助記号', 'pos1': '句点'}\n",
      "{'surface': '\\u3000', 'base': '\\u3000', 'pos': '空白', 'pos1': ''}\n",
      "{'surface': 'どこ', 'base': '何処', 'pos': '代名詞', 'pos1': ''}\n",
      "{'surface': 'で', 'base': 'で', 'pos': '助詞', 'pos1': '格助詞'}\n",
      "{'surface': '生れ', 'base': '生まれる', 'pos': '動詞', 'pos1': '一般'}\n",
      "{'surface': 'た', 'base': 'た', 'pos': '助動詞', 'pos1': ''}\n",
      "{'surface': 'か', 'base': 'か', 'pos': '助詞', 'pos1': '終助詞'}\n",
      "{'surface': 'と', 'base': 'と', 'pos': '助詞', 'pos1': '格助詞'}\n"
     ]
    }
   ],
   "source": [
    "neko_dict = {}\n",
    "neko_list = []\n",
    "neko_general_list = []\n",
    "\n",
    "with open('./datafiles/neko.txt.mecab', 'r', encoding='utf-8') as f:\n",
    "    lines = f.readlines()\n",
    "    for line in lines[0:25]:\n",
    "        if line == 'EOS\\n':\n",
    "            pass\n",
    "        else:    \n",
    "            tab_splitted_line = line.split('\\t')\n",
    "            comma_splitted_line = tab_splitted_line[1].split(',')\n",
    "            neko_dict['surface'] = tab_splitted_line[0]\n",
    "            if len(comma_splitted_line) <= 7:\n",
    "                neko_dict[\"base\"] = comma_splitted_line[0]\n",
    "            else:\n",
    "                neko_dict[\"base\"] = comma_splitted_line[7]\n",
    "            neko_dict[\"pos\"] = comma_splitted_line[0]\n",
    "            neko_dict[\"pos1\"] = comma_splitted_line[1]\n",
    "            print(neko_dict)\n",
    "            neko_list.append(neko_dict.copy())\n",
    "\n",
    "            if tab_splitted_line[0] == '。':\n",
    "                neko_general_list.append(neko_list)\n",
    "                neko_list = []"
   ]
  },
  {
   "cell_type": "code",
   "execution_count": 2,
   "id": "3bd7a2fc-0660-4dde-9b89-b39b3c1da5a2",
   "metadata": {},
   "outputs": [
    {
     "data": {
      "text/plain": [
       "[{'surface': '\\u3000', 'base': '\\u3000', 'pos': '空白', 'pos1': ''},\n",
       " {'surface': 'どこ', 'base': '何処', 'pos': '代名詞', 'pos1': ''},\n",
       " {'surface': 'で', 'base': 'で', 'pos': '助詞', 'pos1': '格助詞'},\n",
       " {'surface': '生れ', 'base': '生まれる', 'pos': '動詞', 'pos1': '一般'},\n",
       " {'surface': 'た', 'base': 'た', 'pos': '助動詞', 'pos1': ''},\n",
       " {'surface': 'か', 'base': 'か', 'pos': '助詞', 'pos1': '終助詞'},\n",
       " {'surface': 'と', 'base': 'と', 'pos': '助詞', 'pos1': '格助詞'}]"
      ]
     },
     "execution_count": 2,
     "metadata": {},
     "output_type": "execute_result"
    }
   ],
   "source": [
    "neko_list"
   ]
  },
  {
   "cell_type": "code",
   "execution_count": 3,
   "id": "4ad82d50-ff02-48fd-8325-299468a3498e",
   "metadata": {},
   "outputs": [
    {
     "data": {
      "text/plain": [
       "[[{'surface': '一', 'base': '一', 'pos': '名詞', 'pos1': '数詞'},\n",
       "  {'surface': '\\u3000', 'base': '\\u3000', 'pos': '空白', 'pos1': ''},\n",
       "  {'surface': '吾輩', 'base': '我が輩', 'pos': '代名詞', 'pos1': ''},\n",
       "  {'surface': 'は', 'base': 'は', 'pos': '助詞', 'pos1': '係助詞'},\n",
       "  {'surface': '猫', 'base': '猫', 'pos': '名詞', 'pos1': '普通名詞'},\n",
       "  {'surface': 'で', 'base': 'だ', 'pos': '助動詞', 'pos1': ''},\n",
       "  {'surface': 'ある', 'base': '有る', 'pos': '動詞', 'pos1': '非自立可能'},\n",
       "  {'surface': '。', 'base': '。', 'pos': '補助記号', 'pos1': '句点'}],\n",
       " [{'surface': '名前', 'base': '名前', 'pos': '名詞', 'pos1': '普通名詞'},\n",
       "  {'surface': 'は', 'base': 'は', 'pos': '助詞', 'pos1': '係助詞'},\n",
       "  {'surface': 'まだ', 'base': '未だ', 'pos': '副詞', 'pos1': ''},\n",
       "  {'surface': '無い', 'base': '無い', 'pos': '形容詞', 'pos1': '非自立可能'},\n",
       "  {'surface': '。', 'base': '。', 'pos': '補助記号', 'pos1': '句点'}]]"
      ]
     },
     "execution_count": 3,
     "metadata": {},
     "output_type": "execute_result"
    }
   ],
   "source": [
    "neko_general_list"
   ]
  },
  {
   "cell_type": "code",
   "execution_count": null,
   "id": "ed7ed38f-eb0b-466e-b572-0cfe930027f5",
   "metadata": {},
   "outputs": [],
   "source": []
  }
 ],
 "metadata": {
  "kernelspec": {
   "display_name": "Python 3 (ipykernel)",
   "language": "python",
   "name": "python3"
  },
  "language_info": {
   "codemirror_mode": {
    "name": "ipython",
    "version": 3
   },
   "file_extension": ".py",
   "mimetype": "text/x-python",
   "name": "python",
   "nbconvert_exporter": "python",
   "pygments_lexer": "ipython3",
   "version": "3.12.4"
  }
 },
 "nbformat": 4,
 "nbformat_minor": 5
}
