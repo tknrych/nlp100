{
 "cells": [
  {
   "cell_type": "markdown",
   "id": "b285b250-41c7-4161-a645-02fe72e81f9e",
   "metadata": {},
   "source": [
    "# https://nlp100.github.io/ja/ch04.html"
   ]
  },
  {
   "cell_type": "markdown",
   "id": "d97391e8-c46c-44c8-a58e-0866264a4d34",
   "metadata": {},
   "source": [
    "## 前準備"
   ]
  },
  {
   "cell_type": "code",
   "execution_count": 48,
   "id": "e2e7e168-3bc9-4b6b-abb7-1066d55be9f8",
   "metadata": {},
   "outputs": [
    {
     "name": "stdout",
     "output_type": "stream",
     "text": [
      "Requirement already satisfied: mecab-python3 in /Users/ryu/.venv/lib/python3.12/site-packages (1.0.10)\n",
      "Requirement already satisfied: pandas in /Users/ryu/.venv/lib/python3.12/site-packages (2.2.3)\n",
      "Requirement already satisfied: numpy>=1.26.0 in /Users/ryu/.venv/lib/python3.12/site-packages (from pandas) (2.2.0)\n",
      "Requirement already satisfied: python-dateutil>=2.8.2 in /Users/ryu/.venv/lib/python3.12/site-packages (from pandas) (2.9.0.post0)\n",
      "Requirement already satisfied: pytz>=2020.1 in /Users/ryu/.venv/lib/python3.12/site-packages (from pandas) (2024.2)\n",
      "Requirement already satisfied: tzdata>=2022.7 in /Users/ryu/.venv/lib/python3.12/site-packages (from pandas) (2024.2)\n",
      "Requirement already satisfied: six>=1.5 in /Users/ryu/.venv/lib/python3.12/site-packages (from python-dateutil>=2.8.2->pandas) (1.17.0)\n",
      "Requirement already satisfied: unidic in /Users/ryu/.venv/lib/python3.12/site-packages (1.1.0)\n",
      "Requirement already satisfied: requests<3.0.0,>=2.22.0 in /Users/ryu/.venv/lib/python3.12/site-packages (from unidic) (2.32.3)\n",
      "Requirement already satisfied: tqdm<5.0.0,>=4.41.1 in /Users/ryu/.venv/lib/python3.12/site-packages (from unidic) (4.67.1)\n",
      "Requirement already satisfied: wasabi<1.0.0,>=0.6.0 in /Users/ryu/.venv/lib/python3.12/site-packages (from unidic) (0.10.1)\n",
      "Requirement already satisfied: plac<2.0.0,>=1.1.3 in /Users/ryu/.venv/lib/python3.12/site-packages (from unidic) (1.4.3)\n",
      "Requirement already satisfied: charset-normalizer<4,>=2 in /Users/ryu/.venv/lib/python3.12/site-packages (from requests<3.0.0,>=2.22.0->unidic) (3.4.0)\n",
      "Requirement already satisfied: idna<4,>=2.5 in /Users/ryu/.venv/lib/python3.12/site-packages (from requests<3.0.0,>=2.22.0->unidic) (3.10)\n",
      "Requirement already satisfied: urllib3<3,>=1.21.1 in /Users/ryu/.venv/lib/python3.12/site-packages (from requests<3.0.0,>=2.22.0->unidic) (2.2.3)\n",
      "Requirement already satisfied: certifi>=2017.4.17 in /Users/ryu/.venv/lib/python3.12/site-packages (from requests<3.0.0,>=2.22.0->unidic) (2024.8.30)\n",
      "download url: https://cotonoha-dic.s3-ap-northeast-1.amazonaws.com/unidic-3.1.0.zip\n",
      "Dictionary version: 3.1.0+2021-08-31\n",
      "Downloading UniDic v3.1.0+2021-08-31...\n",
      "unidic-3.1.0.zip: 100%|██████████████████████| 526M/526M [00:55<00:00, 9.55MB/s]\n",
      "Finished download.\n",
      "Downloaded UniDic v3.1.0+2021-08-31 to /Users/ryu/.venv/lib/python3.12/site-packages/unidic/dicdir\n",
      "Collecting japanize-matplotlib\n",
      "  Downloading japanize-matplotlib-1.1.3.tar.gz (4.1 MB)\n",
      "\u001b[2K     \u001b[38;2;114;156;31m━━━━━━━━━━━━━━━━━━━━━━━━━━━━━━━━━━━━━━━━\u001b[0m \u001b[32m4.1/4.1 MB\u001b[0m \u001b[31m10.9 MB/s\u001b[0m eta \u001b[36m0:00:00\u001b[0m31m10.5 MB/s\u001b[0m eta \u001b[36m0:00:01\u001b[0m\n",
      "  Installing build dependencies ... \u001b[?25done\n",
      "\u001b[?25h  Getting requirements to build wheel ... \u001b[?25ldone\n",
      "\u001b[?25h  Preparing metadata (pyproject.toml) ... \u001b[?25ldone\n",
      "\u001b[?25hRequirement already satisfied: matplotlib in /Users/ryu/.venv/lib/python3.12/site-packages (from japanize-matplotlib) (3.9.4)\n",
      "Requirement already satisfied: contourpy>=1.0.1 in /Users/ryu/.venv/lib/python3.12/site-packages (from matplotlib->japanize-matplotlib) (1.3.1)\n",
      "Requirement already satisfied: cycler>=0.10 in /Users/ryu/.venv/lib/python3.12/site-packages (from matplotlib->japanize-matplotlib) (0.12.1)\n",
      "Requirement already satisfied: fonttools>=4.22.0 in /Users/ryu/.venv/lib/python3.12/site-packages (from matplotlib->japanize-matplotlib) (4.55.3)\n",
      "Requirement already satisfied: kiwisolver>=1.3.1 in /Users/ryu/.venv/lib/python3.12/site-packages (from matplotlib->japanize-matplotlib) (1.4.7)\n",
      "Requirement already satisfied: numpy>=1.23 in /Users/ryu/.venv/lib/python3.12/site-packages (from matplotlib->japanize-matplotlib) (2.2.0)\n",
      "Requirement already satisfied: packaging>=20.0 in /Users/ryu/.venv/lib/python3.12/site-packages (from matplotlib->japanize-matplotlib) (24.2)\n",
      "Requirement already satisfied: pillow>=8 in /Users/ryu/.venv/lib/python3.12/site-packages (from matplotlib->japanize-matplotlib) (11.0.0)\n",
      "Requirement already satisfied: pyparsing>=2.3.1 in /Users/ryu/.venv/lib/python3.12/site-packages (from matplotlib->japanize-matplotlib) (3.2.0)\n",
      "Requirement already satisfied: python-dateutil>=2.7 in /Users/ryu/.venv/lib/python3.12/site-packages (from matplotlib->japanize-matplotlib) (2.9.0.post0)\n",
      "Requirement already satisfied: six>=1.5 in /Users/ryu/.venv/lib/python3.12/site-packages (from python-dateutil>=2.7->matplotlib->japanize-matplotlib) (1.17.0)\n",
      "Building wheels for collected packages: japanize-matplotlib\n",
      "  Building wheel for japanize-matplotlib (pyproject.toml) ... \u001b[?25ldone\n",
      "\u001b[?25h  Created wheel for japanize-matplotlib: filename=japanize_matplotlib-1.1.3-py3-none-any.whl size=4120306 sha256=a9a29adb8fe393cc2641ae9c3770a9ed308bdf690647a8d346424451d48a6142\n",
      "  Stored in directory: /Users/ryu/Library/Caches/pip/wheels/c1/f7/9b/418f19a7b9340fc16e071e89efc379aca68d40238b258df53d\n",
      "Successfully built japanize-matplotlib\n",
      "Installing collected packages: japanize-matplotlib\n",
      "Successfully installed japanize-matplotlib-1.1.3\n"
     ]
    }
   ],
   "source": [
    "!pip install mecab-python3\n",
    "!pip install pandas\n",
    "!pip install unidic\n",
    "!python -m unidic download\n",
    "!pip install japanize-matplotlib"
   ]
  },
  {
   "cell_type": "code",
   "execution_count": 2,
   "id": "d6b125fc-9a15-4ae5-93bf-1bfc72787c7e",
   "metadata": {},
   "outputs": [],
   "source": [
    "import MeCab\n",
    "mecab = MeCab.Tagger()\n",
    "with open('./datafiles/neko.txt', 'r', encoding=\"utf-8\") as f1, open('./datafiles/neko.txt.mecab', 'w', encoding=\"utf-8\") as f2:\n",
    "    lines = f1.readlines()\n",
    "    for line in lines:\n",
    "        parsed_text = mecab.parse(line)\n",
    "        f2.write(parsed_text)"
   ]
  },
  {
   "cell_type": "markdown",
   "id": "5e4ec722-30a7-4998-84ac-8b72609c98a7",
   "metadata": {},
   "source": [
    "## 30. 形態素解析結果の読み込み\n",
    "- 形態素解析結果（neko.txt.mecab）を読み込むプログラムを実装せよ．ただし，各形態素は表層形（surface），基本形（base），品詞（pos），品詞細分類1（pos1）をキーとするマッピング型に格納し，1文を形態素（マッピング型）のリストとして表現せよ．第4章の残りの問題では，ここで作ったプログラムを活用せよ．"
   ]
  },
  {
   "cell_type": "code",
   "execution_count": 3,
   "id": "b0017b4c-d1c6-4bb6-ad19-2e42f4b3a613",
   "metadata": {},
   "outputs": [
    {
     "name": "stdout",
     "output_type": "stream",
     "text": [
      "['どこ\\t代名詞,,,,,,ドコ,何処,どこ,ドコ,どこ,ドコ,和,\"\",\"\",\"\",\"\",\"\",\"\",体,ドコ,ドコ,ドコ,ドコ,\"1\",\"\",\"\",7490706465759744,27251']\n"
     ]
    }
   ],
   "source": [
    "# 格納された形態素解析ファイルの構造を確認　→　見出し語と形態素解析の結果はtabで区切られている\n",
    "line_20_output = !sed -n '20p' ./datafiles/neko.txt.mecab\n",
    "print(line_20_output)"
   ]
  },
  {
   "cell_type": "code",
   "execution_count": 4,
   "id": "688c7ffc-4167-4ce8-8b94-d0562ada94b1",
   "metadata": {},
   "outputs": [
    {
     "name": "stdout",
     "output_type": "stream",
     "text": [
      "['どこ', '代名詞,,,,,,ドコ,何処,どこ,ドコ,どこ,ドコ,和,\"\",\"\",\"\",\"\",\"\",\"\",体,ドコ,ドコ,ドコ,ドコ,\"1\",\"\",\"\",7490706465759744,27251']\n"
     ]
    }
   ],
   "source": [
    "# tabで区切られたテキストを分割の処理方法　→　splitを使用\n",
    "splitted_text = line_20_output[0].split('\\t')\n",
    "print(splitted_text)"
   ]
  },
  {
   "cell_type": "code",
   "execution_count": 5,
   "id": "5fa4d026-9de1-4af9-a26b-505e60fea864",
   "metadata": {},
   "outputs": [
    {
     "data": {
      "text/plain": [
       "['代名詞',\n",
       " '',\n",
       " '',\n",
       " '',\n",
       " '',\n",
       " '',\n",
       " 'ドコ',\n",
       " '何処',\n",
       " 'どこ',\n",
       " 'ドコ',\n",
       " 'どこ',\n",
       " 'ドコ',\n",
       " '和',\n",
       " '\"\"',\n",
       " '\"\"',\n",
       " '\"\"',\n",
       " '\"\"',\n",
       " '\"\"',\n",
       " '\"\"',\n",
       " '体',\n",
       " 'ドコ',\n",
       " 'ドコ',\n",
       " 'ドコ',\n",
       " 'ドコ',\n",
       " '\"1\"',\n",
       " '\"\"',\n",
       " '\"\"',\n",
       " '7490706465759744',\n",
       " '27251']"
      ]
     },
     "execution_count": 5,
     "metadata": {},
     "output_type": "execute_result"
    }
   ],
   "source": [
    "# 同様にカンマ区切りでも区切ることが可能\n",
    "splitted_text[1].split(',')"
   ]
  },
  {
   "cell_type": "markdown",
   "id": "705826f0-1835-4b48-8460-092cb91ba0f1",
   "metadata": {},
   "source": [
    "read(): Reads the entire file at once into a single string, unless a size limit is set.  \n",
    "readlines(): Reads the entire file into a list of strings, with each string representing a line from the file."
   ]
  },
  {
   "cell_type": "code",
   "execution_count": 6,
   "id": "068f352c-581c-4c3d-a7e0-d673b296b9a4",
   "metadata": {},
   "outputs": [],
   "source": [
    "neko_dict = {}\n",
    "neko_list = []\n",
    "neko_general_list = []\n",
    "\n",
    "with open('./datafiles/neko.txt.mecab', 'r', encoding='utf-8') as f:\n",
    "    lines = f.readlines()\n",
    "    for line in lines[0:]:\n",
    "        if line == 'EOS\\n':\n",
    "            pass\n",
    "        else:\n",
    "            tab_splitted_line = line.split('\\t') # 見出し語と解析結果を分割\n",
    "            comma_splitted_line = tab_splitted_line[1].split(',') # 解析結果を分割\n",
    "            neko_dict['surface'] = tab_splitted_line[0] # 表示されている文字列(表層形: surface) \n",
    "            if len(comma_splitted_line) <= 7:\n",
    "                neko_dict[\"base\"] = comma_splitted_line[0] # 基本形(基本形: base) \n",
    "            else:\n",
    "                neko_dict[\"base\"] = comma_splitted_line[7]\n",
    "            neko_dict[\"pos\"] = comma_splitted_line[0] # 品詞（pos）\n",
    "            neko_dict[\"pos1\"] = comma_splitted_line[1] # 品詞細分類1（pos1）\n",
    "            neko_list.append(neko_dict.copy())\n",
    "\n",
    "            if tab_splitted_line[0] == '。':\n",
    "                neko_general_list.append(neko_list.copy())\n",
    "                neko_list = []"
   ]
  },
  {
   "cell_type": "code",
   "execution_count": 7,
   "id": "4ad82d50-ff02-48fd-8325-299468a3498e",
   "metadata": {},
   "outputs": [
    {
     "data": {
      "text/plain": [
       "[[{'surface': '一', 'base': '一', 'pos': '名詞', 'pos1': '数詞'},\n",
       "  {'surface': '\\u3000', 'base': '\\u3000', 'pos': '空白', 'pos1': ''},\n",
       "  {'surface': '吾輩', 'base': '我が輩', 'pos': '代名詞', 'pos1': ''},\n",
       "  {'surface': 'は', 'base': 'は', 'pos': '助詞', 'pos1': '係助詞'},\n",
       "  {'surface': '猫', 'base': '猫', 'pos': '名詞', 'pos1': '普通名詞'},\n",
       "  {'surface': 'で', 'base': 'だ', 'pos': '助動詞', 'pos1': ''},\n",
       "  {'surface': 'ある', 'base': '有る', 'pos': '動詞', 'pos1': '非自立可能'},\n",
       "  {'surface': '。', 'base': '。', 'pos': '補助記号', 'pos1': '句点'}],\n",
       " [{'surface': '名前', 'base': '名前', 'pos': '名詞', 'pos1': '普通名詞'},\n",
       "  {'surface': 'は', 'base': 'は', 'pos': '助詞', 'pos1': '係助詞'},\n",
       "  {'surface': 'まだ', 'base': '未だ', 'pos': '副詞', 'pos1': ''},\n",
       "  {'surface': '無い', 'base': '無い', 'pos': '形容詞', 'pos1': '非自立可能'},\n",
       "  {'surface': '。', 'base': '。', 'pos': '補助記号', 'pos1': '句点'}],\n",
       " [{'surface': '\\u3000', 'base': '\\u3000', 'pos': '空白', 'pos1': ''},\n",
       "  {'surface': 'どこ', 'base': '何処', 'pos': '代名詞', 'pos1': ''},\n",
       "  {'surface': 'で', 'base': 'で', 'pos': '助詞', 'pos1': '格助詞'},\n",
       "  {'surface': '生れ', 'base': '生まれる', 'pos': '動詞', 'pos1': '一般'},\n",
       "  {'surface': 'た', 'base': 'た', 'pos': '助動詞', 'pos1': ''},\n",
       "  {'surface': 'か', 'base': 'か', 'pos': '助詞', 'pos1': '終助詞'},\n",
       "  {'surface': 'と', 'base': 'と', 'pos': '助詞', 'pos1': '格助詞'},\n",
       "  {'surface': 'んと', 'base': 'うんと', 'pos': '感動詞', 'pos1': 'フィラー'},\n",
       "  {'surface': '見当', 'base': '見当', 'pos': '名詞', 'pos1': '普通名詞'},\n",
       "  {'surface': 'が', 'base': 'が', 'pos': '助詞', 'pos1': '格助詞'},\n",
       "  {'surface': 'つか', 'base': '付く', 'pos': '動詞', 'pos1': '非自立可能'},\n",
       "  {'surface': 'ぬ', 'base': 'ず', 'pos': '助動詞', 'pos1': ''},\n",
       "  {'surface': '。', 'base': '。', 'pos': '補助記号', 'pos1': '句点'}]]"
      ]
     },
     "execution_count": 7,
     "metadata": {},
     "output_type": "execute_result"
    }
   ],
   "source": [
    "neko_general_list[0:3]"
   ]
  },
  {
   "cell_type": "markdown",
   "id": "c42fb97c-df45-4363-9edb-435926a6fece",
   "metadata": {},
   "source": [
    "## 31. 動詞\n",
    "- 動詞の表層形をすべて抽出せよ．"
   ]
  },
  {
   "cell_type": "code",
   "execution_count": 8,
   "id": "f53057e2-c206-4617-a70a-b38ea4224f22",
   "metadata": {},
   "outputs": [],
   "source": [
    "verb_dict = {}\n",
    "for neko_list in neko_general_list:\n",
    "    for neko_dict in neko_list:\n",
    "        if neko_dict['pos'] == '動詞':\n",
    "            # 辞書からキーで値を取得し、キーが存在しない場合は None を返す\n",
    "            verb_value = verb_dict.get(neko_dict['surface'])\n",
    "            if verb_value == None:\n",
    "                # 始めて追加する場合にはカウントを1\n",
    "                verb_dict[neko_dict['surface']] = 1\n",
    "            else:\n",
    "                # 二回目以降に登場する場合にはカウントアップ\n",
    "                verb_dict[neko_dict['surface']] = verb_dict[neko_dict['surface']] + 1"
   ]
  },
  {
   "cell_type": "code",
   "execution_count": 9,
   "id": "b70c1e0c-9ba6-44e4-b28a-917224548286",
   "metadata": {},
   "outputs": [],
   "source": [
    "import pandas as pd\n",
    "df = pd.DataFrame.from_dict(verb_dict, orient='index', columns=['Count'])"
   ]
  },
  {
   "cell_type": "code",
   "execution_count": 10,
   "id": "c3194464-d59a-439c-b4b4-421a8c20531c",
   "metadata": {},
   "outputs": [
    {
     "data": {
      "text/html": [
       "<div>\n",
       "<style scoped>\n",
       "    .dataframe tbody tr th:only-of-type {\n",
       "        vertical-align: middle;\n",
       "    }\n",
       "\n",
       "    .dataframe tbody tr th {\n",
       "        vertical-align: top;\n",
       "    }\n",
       "\n",
       "    .dataframe thead th {\n",
       "        text-align: right;\n",
       "    }\n",
       "</style>\n",
       "<table border=\"1\" class=\"dataframe\">\n",
       "  <thead>\n",
       "    <tr style=\"text-align: right;\">\n",
       "      <th></th>\n",
       "      <th>Count</th>\n",
       "    </tr>\n",
       "  </thead>\n",
       "  <tbody>\n",
       "    <tr>\n",
       "      <th>し</th>\n",
       "      <td>2471</td>\n",
       "    </tr>\n",
       "    <tr>\n",
       "      <th>ある</th>\n",
       "      <td>1689</td>\n",
       "    </tr>\n",
       "    <tr>\n",
       "      <th>いる</th>\n",
       "      <td>1255</td>\n",
       "    </tr>\n",
       "    <tr>\n",
       "      <th>する</th>\n",
       "      <td>1055</td>\n",
       "    </tr>\n",
       "    <tr>\n",
       "      <th>云う</th>\n",
       "      <td>937</td>\n",
       "    </tr>\n",
       "    <tr>\n",
       "      <th>なっ</th>\n",
       "      <td>408</td>\n",
       "    </tr>\n",
       "    <tr>\n",
       "      <th>なる</th>\n",
       "      <td>395</td>\n",
       "    </tr>\n",
       "    <tr>\n",
       "      <th>来</th>\n",
       "      <td>379</td>\n",
       "    </tr>\n",
       "    <tr>\n",
       "      <th>い</th>\n",
       "      <td>372</td>\n",
       "    </tr>\n",
       "    <tr>\n",
       "      <th>見</th>\n",
       "      <td>364</td>\n",
       "    </tr>\n",
       "  </tbody>\n",
       "</table>\n",
       "</div>"
      ],
      "text/plain": [
       "    Count\n",
       "し    2471\n",
       "ある   1689\n",
       "いる   1255\n",
       "する   1055\n",
       "云う    937\n",
       "なっ    408\n",
       "なる    395\n",
       "来     379\n",
       "い     372\n",
       "見     364"
      ]
     },
     "execution_count": 10,
     "metadata": {},
     "output_type": "execute_result"
    }
   ],
   "source": [
    "# 登場回数の多い動詞の表層形をランキング\n",
    "df.sort_values(by=['Count'], ascending=[False]).head(10)"
   ]
  },
  {
   "cell_type": "code",
   "execution_count": 11,
   "id": "b0b536f2-5be1-490e-a8ac-7e7506510072",
   "metadata": {},
   "outputs": [
    {
     "data": {
      "text/plain": [
       "4086"
      ]
     },
     "execution_count": 11,
     "metadata": {},
     "output_type": "execute_result"
    }
   ],
   "source": [
    "# 表層形の数\n",
    "len(df)"
   ]
  },
  {
   "cell_type": "markdown",
   "id": "8f7489d7-56a5-418c-a792-13db5ddab2b6",
   "metadata": {},
   "source": [
    "## 32. 動詞の基本形\n",
    "- 動詞の基本形をすべて抽出せよ．"
   ]
  },
  {
   "cell_type": "code",
   "execution_count": 12,
   "id": "d287bc57-c469-4005-a989-723b1317d662",
   "metadata": {},
   "outputs": [],
   "source": [
    "verb_dict = {}\n",
    "for neko_list in neko_general_list:\n",
    "    for neko_dict in neko_list:\n",
    "        if neko_dict['pos'] == '動詞':\n",
    "            # 辞書からキーで値を取得し、キーが存在しない場合は None を返す\n",
    "            verb_value = verb_dict.get(neko_dict['base'])\n",
    "            if verb_value == None:\n",
    "                # 始めて追加する場合にはカウントを1\n",
    "                verb_dict[neko_dict['base']] = 1\n",
    "            else:\n",
    "                # 二回目以降に登場する場合にはカウントアップ\n",
    "                verb_dict[neko_dict['base']] = verb_dict[neko_dict['base']] + 1"
   ]
  },
  {
   "cell_type": "code",
   "execution_count": 13,
   "id": "cf7a7f0f-a8f3-4f0b-b686-409b695108c6",
   "metadata": {},
   "outputs": [],
   "source": [
    "import pandas as pd\n",
    "df = pd.DataFrame.from_dict(verb_dict, orient='index', columns=['Count'])"
   ]
  },
  {
   "cell_type": "code",
   "execution_count": 14,
   "id": "3e847cc1-f378-4c8e-953f-ae617fbcdb90",
   "metadata": {},
   "outputs": [
    {
     "data": {
      "text/html": [
       "<div>\n",
       "<style scoped>\n",
       "    .dataframe tbody tr th:only-of-type {\n",
       "        vertical-align: middle;\n",
       "    }\n",
       "\n",
       "    .dataframe tbody tr th {\n",
       "        vertical-align: top;\n",
       "    }\n",
       "\n",
       "    .dataframe thead th {\n",
       "        text-align: right;\n",
       "    }\n",
       "</style>\n",
       "<table border=\"1\" class=\"dataframe\">\n",
       "  <thead>\n",
       "    <tr style=\"text-align: right;\">\n",
       "      <th></th>\n",
       "      <th>Count</th>\n",
       "    </tr>\n",
       "  </thead>\n",
       "  <tbody>\n",
       "    <tr>\n",
       "      <th>為る</th>\n",
       "      <td>3925</td>\n",
       "    </tr>\n",
       "    <tr>\n",
       "      <th>有る</th>\n",
       "      <td>2313</td>\n",
       "    </tr>\n",
       "    <tr>\n",
       "      <th>居る</th>\n",
       "      <td>1780</td>\n",
       "    </tr>\n",
       "    <tr>\n",
       "      <th>言う</th>\n",
       "      <td>1692</td>\n",
       "    </tr>\n",
       "    <tr>\n",
       "      <th>成る</th>\n",
       "      <td>1093</td>\n",
       "    </tr>\n",
       "    <tr>\n",
       "      <th>見る</th>\n",
       "      <td>697</td>\n",
       "    </tr>\n",
       "    <tr>\n",
       "      <th>来る</th>\n",
       "      <td>629</td>\n",
       "    </tr>\n",
       "    <tr>\n",
       "      <th>思う</th>\n",
       "      <td>515</td>\n",
       "    </tr>\n",
       "    <tr>\n",
       "      <th>行く</th>\n",
       "      <td>444</td>\n",
       "    </tr>\n",
       "    <tr>\n",
       "      <th>聞く</th>\n",
       "      <td>383</td>\n",
       "    </tr>\n",
       "  </tbody>\n",
       "</table>\n",
       "</div>"
      ],
      "text/plain": [
       "    Count\n",
       "為る   3925\n",
       "有る   2313\n",
       "居る   1780\n",
       "言う   1692\n",
       "成る   1093\n",
       "見る    697\n",
       "来る    629\n",
       "思う    515\n",
       "行く    444\n",
       "聞く    383"
      ]
     },
     "execution_count": 14,
     "metadata": {},
     "output_type": "execute_result"
    }
   ],
   "source": [
    "# 登場回数の多い動詞の表層形をランキング\n",
    "df.sort_values(by=['Count'], ascending=[False]).head(10)"
   ]
  },
  {
   "cell_type": "markdown",
   "id": "e12f180a-ade3-4da0-b3db-0c796bf8ce67",
   "metadata": {},
   "source": [
    "## 33. 「AのB」\n",
    "- 2つの名詞が「の」で連結されている名詞句を抽出せよ．"
   ]
  },
  {
   "cell_type": "code",
   "execution_count": 15,
   "id": "641ae016-e4ca-4b5e-8634-694ced6698cd",
   "metadata": {},
   "outputs": [],
   "source": [
    "a_no_b_list = []\n",
    "for neko_list in neko_general_list:\n",
    "    neko_list_len = len(neko_list)\n",
    "    for counter in range(1, neko_list_len):\n",
    "        if ((neko_list[counter]['pos'] == '助詞') \\\n",
    "            and (neko_list[counter]['surface'] == 'の')\n",
    "            and (neko_list[counter-1]['pos'] == '名詞')\n",
    "            and (neko_list[counter+1]['pos'] == '名詞')\n",
    "           ):\n",
    "            a_no_b_list.append((neko_list[counter-1]['surface'],neko_list[counter]['surface'],neko_list[counter+1]['surface']))"
   ]
  },
  {
   "cell_type": "code",
   "execution_count": 21,
   "id": "a27d47f9-1a27-4627-8303-1f98b3781003",
   "metadata": {},
   "outputs": [
    {
     "data": {
      "text/plain": [
       "[('掌', 'の', '上'),\n",
       " ('書生', 'の', '顔'),\n",
       " ('はず', 'の', '顔'),\n",
       " ('顔', 'の', '真中'),\n",
       " ('穴', 'の', '中'),\n",
       " ('書生', 'の', '掌'),\n",
       " ('掌', 'の', '裏'),\n",
       " ('藁', 'の', '上'),\n",
       " ('笹原', 'の', '中'),\n",
       " ('池', 'の', '前'),\n",
       " ('一樹', 'の', '蔭'),\n",
       " ('垣根', 'の', '穴'),\n",
       " ('隣家', 'の', '三毛'),\n",
       " ('時', 'の', '通路'),\n",
       " ('一刻', 'の', '猶予'),\n",
       " ('家', 'の', '内'),\n",
       " ('以外', 'の', '人間'),\n",
       " ('前', 'の', '書生'),\n",
       " ('胸', 'の', '痞'),\n",
       " ('家', 'の', '主人')]"
      ]
     },
     "execution_count": 21,
     "metadata": {},
     "output_type": "execute_result"
    }
   ],
   "source": [
    "a_no_b_list[0:20]"
   ]
  },
  {
   "cell_type": "markdown",
   "id": "1a0ac51b-41e7-43c2-8117-9ca3a09aa02b",
   "metadata": {},
   "source": [
    "## 34. 名詞の連接\n",
    "- 名詞の連接（連続して出現する名詞）を最長一致で抽出せよ．"
   ]
  },
  {
   "cell_type": "code",
   "execution_count": 19,
   "id": "edbb58b5-11bc-40ad-a0e2-a713f605d978",
   "metadata": {},
   "outputs": [],
   "source": [
    "noun_noun_list = []\n",
    "for neko_list in neko_general_list:\n",
    "    neko_list_len = len(neko_list)\n",
    "    for counter in range(1, neko_list_len):\n",
    "        if ((neko_list[counter]['pos'] == '名詞') \\\n",
    "            and (neko_list[counter-1]['pos'] == '名詞')\n",
    "           ):\n",
    "            noun_noun_list.append((neko_list[counter-1]['surface'],neko_list[counter]['surface']))"
   ]
  },
  {
   "cell_type": "code",
   "execution_count": 22,
   "id": "18d718cb-699a-4ab0-8a31-835709e50bf2",
   "metadata": {},
   "outputs": [
    {
     "data": {
      "text/plain": [
       "[('時', '妙'),\n",
       " ('一', '毛'),\n",
       " ('後', '猫'),\n",
       " ('一', '度'),\n",
       " ('上', '今'),\n",
       " ('うち', '池の上'),\n",
       " ('左', 'り'),\n",
       " ('書生', '以外'),\n",
       " ('宿', 'なし'),\n",
       " ('まま', '奥'),\n",
       " ('終日', '書斎'),\n",
       " ('時々', '忍び足'),\n",
       " ('淡黄', '色'),\n",
       " ('二三', 'ページ'),\n",
       " ('主人', '以外'),\n",
       " ('朝', '主人'),\n",
       " ('椽', '側'),\n",
       " ('一', '間'),\n",
       " ('神経', '胃弱'),\n",
       " ('時々', '同衾')]"
      ]
     },
     "execution_count": 22,
     "metadata": {},
     "output_type": "execute_result"
    }
   ],
   "source": [
    "noun_noun_list[0:20]"
   ]
  },
  {
   "cell_type": "markdown",
   "id": "f34c79a2-76e3-4394-9c2b-197748b74353",
   "metadata": {},
   "source": [
    "## 35. 単語の出現頻度\n",
    "- 文章中に出現する単語とその出現頻度を求め，出現頻度の高い順に並べよ．"
   ]
  },
  {
   "cell_type": "code",
   "execution_count": 30,
   "id": "b450f5e2-f05e-4a51-ad62-080b40c99e36",
   "metadata": {},
   "outputs": [],
   "source": [
    "surface_dict = {}\n",
    "for neko_list in neko_general_list:\n",
    "    for neko_dict in neko_list:\n",
    "        if neko_dict['pos'] in ['名詞', '動詞']: # 限定しなくてもいいが、とりあえず、名詞と動詞でカウント\n",
    "            surface_value = surface_dict.get(neko_dict['surface'])\n",
    "            if surface_value == None:\n",
    "                # 始めて追加する場合にはカウントを1\n",
    "                surface_dict[neko_dict['surface']] = 1\n",
    "            else:\n",
    "                # 二回目以降に登場する場合にはカウントアップ\n",
    "                surface_dict[neko_dict['surface']] = surface_dict[neko_dict['surface']] + 1"
   ]
  },
  {
   "cell_type": "code",
   "execution_count": 31,
   "id": "9fda3119-2385-4743-a615-b01220ab5ada",
   "metadata": {},
   "outputs": [],
   "source": [
    "import pandas as pd\n",
    "df = pd.DataFrame.from_dict(surface_dict, orient='index', columns=['Count'])"
   ]
  },
  {
   "cell_type": "code",
   "execution_count": 40,
   "id": "1d5c8d1b-ce01-4a70-9902-463452a32e2d",
   "metadata": {},
   "outputs": [],
   "source": [
    "# 登場回数の多い動詞の表層形をランキング\n",
    "df = df.sort_values(by=['Count'], ascending=[False]).head(10)"
   ]
  },
  {
   "cell_type": "code",
   "execution_count": 43,
   "id": "a33876c2-fb7e-4b8d-9b94-9e0e4a376915",
   "metadata": {},
   "outputs": [
    {
     "data": {
      "text/plain": [
       "['し', 'ある', 'いる', '事', 'する', 'もの', '云う', '主人', '一', 'なっ']"
      ]
     },
     "execution_count": 43,
     "metadata": {},
     "output_type": "execute_result"
    }
   ],
   "source": [
    "list(df.index)"
   ]
  },
  {
   "cell_type": "code",
   "execution_count": 44,
   "id": "557bc8d7-280a-4998-acdf-c00b6bfc85c0",
   "metadata": {},
   "outputs": [
    {
     "data": {
      "text/plain": [
       "[2471, 1689, 1255, 1210, 1055, 973, 937, 934, 490, 408]"
      ]
     },
     "execution_count": 44,
     "metadata": {},
     "output_type": "execute_result"
    }
   ],
   "source": [
    "list(df['Count'])"
   ]
  },
  {
   "cell_type": "markdown",
   "id": "9ce57b29-112c-4cfb-b8c4-f3301f5293e9",
   "metadata": {},
   "source": [
    "## 36. 頻度上位10語\n",
    "- 出現頻度が高い10語とその出現頻度をグラフ（例えば棒グラフなど）で表示せよ．"
   ]
  },
  {
   "cell_type": "code",
   "execution_count": 51,
   "id": "98a01638-a1b1-457b-8f32-5133787e0cdd",
   "metadata": {},
   "outputs": [
    {
     "data": {
      "image/png": "[encoded data removed]",
      "text/plain": [
       "<Figure size 1000x600 with 1 Axes>"
      ]
     },
     "metadata": {},
     "output_type": "display_data"
    }
   ],
   "source": [
    "import matplotlib.pyplot as plt\n",
    "import japanize_matplotlib  # 日本語表示のためにインポート\n",
    "\n",
    "# ヒストグラムを表示\n",
    "plt.figure(figsize=(10, 6))  # グラフのサイズを設定\n",
    "plt.bar(list(df.index), list(df['Count']), color='skyblue')  # 棒グラフの作成\n",
    "plt.xlabel('単語')  # x軸のラベル\n",
    "plt.ylabel('回数')  # y軸のラベル\n",
    "plt.title('頻度上位10単語')  # グラフのタイトル\n",
    "plt.xticks(rotation=45)  # x軸のラベルを45度回転して表示\n",
    "plt.show()"
   ]
  },
  {
   "cell_type": "markdown",
   "id": "1d85d97c-bc04-4309-bbf9-a31b3e08db72",
   "metadata": {},
   "source": [
    "## 37. 「猫」と共起頻度の高い上位10語\n",
    "- 「猫」とよく共起する（共起頻度が高い）10語とその出現頻度をグラフ（例えば棒グラフなど）で表示せよ．"
   ]
  },
  {
   "cell_type": "code",
   "execution_count": 69,
   "id": "a1545bf2-f8ba-4830-ad74-7aee18649ac0",
   "metadata": {},
   "outputs": [],
   "source": [
    "window_size = 3\n",
    "co_occurrence_frequency_list = []\n",
    "surface_dict = {}\n",
    "\n",
    "for neko_list in neko_general_list:\n",
    "    neko_list_len = len(neko_list)\n",
    "    for counter in range(window_size, neko_list_len):\n",
    "        if neko_list[counter]['surface'] == '猫':\n",
    "            # 現在の単語 '猫' の前後の単語をチェック\n",
    "            for windows_size_counter in range(1, window_size + 1):\n",
    "                # '猫' の前の単語をチェック\n",
    "                if counter - windows_size_counter >= 0:  # リストの範囲外に出ないようにチェック\n",
    "                    surface_value = neko_list[counter - windows_size_counter]['surface']\n",
    "                    if surface_value:\n",
    "                        if surface_value not in surface_dict:\n",
    "                            surface_dict[surface_value] = 1\n",
    "                        else:\n",
    "                            surface_dict[surface_value] += 1\n",
    "                \n",
    "                # '猫' の後の単語をチェック\n",
    "                if counter + windows_size_counter < neko_list_len:  # リストの範囲外に出ないようにチェック\n",
    "                    surface_value = neko_list[counter + windows_size_counter]['surface']\n",
    "                    if surface_value:\n",
    "                        if surface_value not in surface_dict:\n",
    "                            surface_dict[surface_value] = 1\n",
    "                        else:\n",
    "                            surface_dict[surface_value] += 1"
   ]
  },
  {
   "cell_type": "code",
   "execution_count": 70,
   "id": "a31c4e57-c56a-4a05-8ce3-e35fae4d179d",
   "metadata": {},
   "outputs": [],
   "source": [
    "import pandas as pd\n",
    "df = pd.DataFrame.from_dict(surface_dict, orient='index', columns=['Count'])"
   ]
  },
  {
   "cell_type": "code",
   "execution_count": 71,
   "id": "01a9834f-f476-4b5b-bc0a-f204603454a5",
   "metadata": {},
   "outputs": [],
   "source": [
    "# 登場回数の多い動詞の表層形をランキング\n",
    "df = df.sort_values(by=['Count'], ascending=[False]).head(10)"
   ]
  },
  {
   "cell_type": "code",
   "execution_count": 74,
   "id": "696beb16-c0bc-462f-8b85-0fc998209163",
   "metadata": {},
   "outputs": [
    {
     "data": {
      "image/png": "[encoded data removed]",
      "text/plain": [
       "<Figure size 1000x600 with 1 Axes>"
      ]
     },
     "metadata": {},
     "output_type": "display_data"
    }
   ],
   "source": [
    "import matplotlib.pyplot as plt\n",
    "import japanize_matplotlib  # 日本語表示のためにインポート\n",
    "\n",
    "# ヒストグラムを表示\n",
    "plt.figure(figsize=(10, 6))  # グラフのサイズを設定\n",
    "plt.bar(list(df.index), list(df['Count']), color='skyblue')  # 棒グラフの作成\n",
    "plt.xlabel('単語')  # x軸のラベル\n",
    "plt.ylabel('回数')  # y軸のラベル\n",
    "plt.title('「猫」共起上位10単語')  # グラフのタイトル\n",
    "plt.xticks(rotation=45)  # x軸のラベルを45度回転して表示\n",
    "plt.show()"
   ]
  },
  {
   "cell_type": "code",
   "execution_count": null,
   "id": "690fcdbd-ef3a-4e8b-b031-a3aa523e7630",
   "metadata": {},
   "outputs": [],
   "source": []
  }
 ],
 "metadata": {
  "kernelspec": {
   "display_name": "Python 3 (ipykernel)",
   "language": "python",
   "name": "python3"
  },
  "language_info": {
   "codemirror_mode": {
    "name": "ipython",
    "version": 3
   },
   "file_extension": ".py",
   "mimetype": "text/x-python",
   "name": "python",
   "nbconvert_exporter": "python",
   "pygments_lexer": "ipython3",
   "version": "3.12.4"
  }
 },
 "nbformat": 4,
 "nbformat_minor": 5
}
